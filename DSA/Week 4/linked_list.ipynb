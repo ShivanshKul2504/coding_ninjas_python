{
 "cells": [
  {
   "cell_type": "markdown",
   "metadata": {},
   "source": [
    "#### LINKED LIST - CODING NINJAS"
   ]
  },
  {
   "cell_type": "markdown",
   "metadata": {},
   "source": [
    "##### NODE OBJECT"
   ]
  },
  {
   "cell_type": "code",
   "execution_count": 2,
   "metadata": {},
   "outputs": [
    {
     "name": "stdout",
     "output_type": "stream",
     "text": [
      "15\n",
      "13\n",
      "13\n",
      "<__main__.Node object at 0x000001F7FFDF1510>\n",
      "<__main__.Node object at 0x000001F7FFDF15A0>\n",
      "<__main__.Node object at 0x000001F7FFDF15A0>\n"
     ]
    }
   ],
   "source": [
    "class Node:\n",
    "    def __init__(self, data):\n",
    "        self.data = data\n",
    "        self.next = None\n",
    "\n",
    "\n",
    "a = Node(15)\n",
    "b = Node(13)\n",
    "a.next = b\n",
    "print(a.data)\n",
    "print(b.data)\n",
    "print(a.next.data)\n",
    "print(a)\n",
    "print(a.next)\n",
    "print(b)"
   ]
  },
  {
   "cell_type": "markdown",
   "metadata": {},
   "source": [
    "##### TAKING INPUT AND CREATING LINKED LIST"
   ]
  },
  {
   "cell_type": "code",
   "execution_count": 4,
   "metadata": {},
   "outputs": [],
   "source": [
    "class Node:\n",
    "    def __init__(self, data):\n",
    "        self.data = data\n",
    "        self.next = None\n",
    "\n",
    "def takeInput():\n",
    "    input_list = [int(n) for n in input().split()]\n",
    "    head = None\n",
    "    for curr_data in input_list:\n",
    "        if curr_data == -1:\n",
    "            break\n",
    "        new_node = Node(curr_data)\n",
    "        if head is None:\n",
    "            head = new_node\n",
    "        else:\n",
    "            curr = head\n",
    "            while curr.next is not None:\n",
    "                curr = curr.next\n",
    "            curr.next = new_node\n",
    "\n",
    "    return head\n",
    "    "
   ]
  },
  {
   "cell_type": "markdown",
   "metadata": {},
   "source": [
    "##### HOW TO PRINT A LINKED LIST"
   ]
  },
  {
   "cell_type": "code",
   "execution_count": 5,
   "metadata": {},
   "outputs": [],
   "source": [
    "def printLL(head):\n",
    "    while head is not None:\n",
    "        print(str(head.data) + \"->\", end = \"\")\n",
    "        head = head.next\n",
    "    print(\"None\")"
   ]
  },
  {
   "cell_type": "markdown",
   "metadata": {},
   "source": [
    "##### OPTIMIZED SOLUTION FOR A LINKED LIST"
   ]
  },
  {
   "cell_type": "code",
   "execution_count": 6,
   "metadata": {},
   "outputs": [],
   "source": [
    "def create_linked_list():\n",
    "    input_list = [int(n) for n in input().split()]\n",
    "    head = None\n",
    "    tail = None\n",
    "    for curr in input_list:\n",
    "        new_node = Node(curr)\n",
    "        if head is None:\n",
    "            head = new_node\n",
    "            tail = new_node\n",
    "        else:\n",
    "            tail.next = new_node\n",
    "            tail = new_node\n",
    "    return head"
   ]
  },
  {
   "cell_type": "code",
   "execution_count": null,
   "metadata": {},
   "outputs": [],
   "source": [
    "hello = create_linked_list()\n",
    "print(\"The head is at the location : \", hello, \" The data it has is:\", hello.data)"
   ]
  },
  {
   "cell_type": "markdown",
   "metadata": {},
   "source": [
    "##### PRINT THE LENGTH OF THE LINKED LIST"
   ]
  },
  {
   "cell_type": "code",
   "execution_count": null,
   "metadata": {},
   "outputs": [],
   "source": [
    "class Node:\n",
    "\tdef __init__(self,data):\n",
    "\t\tself.data = data\n",
    "\t\tself.next = None\n",
    "\t\n",
    "def length(head):\n",
    "\tcount = 0\n",
    "\ttemp = head\n",
    "\t\n",
    "\twhile temp is not None:\n",
    "\t\tcount += 1 \n",
    "\t\ttemp = temp.next\n",
    "\treturn count"
   ]
  },
  {
   "cell_type": "markdown",
   "metadata": {},
   "source": [
    "##### PRINT THE iTH NODE OF THE LINKED LIST"
   ]
  },
  {
   "cell_type": "code",
   "execution_count": 1,
   "metadata": {},
   "outputs": [],
   "source": [
    "def printIthNode(head, i):\n",
    "    #Your code goes here\n",
    "    while head is not None:\n",
    "        i = i - 1\n",
    "        head = head.next\n",
    "        if i == 0:\n",
    "            print(head.data)\n",
    "            break"
   ]
  },
  {
   "cell_type": "markdown",
   "metadata": {},
   "source": [
    "##### INSERT AT THE iTH Position of the Linked List"
   ]
  },
  {
   "cell_type": "code",
   "execution_count": 2,
   "metadata": {},
   "outputs": [],
   "source": [
    "def insert_at_ith(head, i, data):\n",
    "    if i < 0 and i > length(head):\n",
    "        return head\n",
    "    count = 0\n",
    "    prev = None\n",
    "    curr = head\n",
    "    while count < i:\n",
    "        prev = curr\n",
    "        curr = curr.next\n",
    "        count = count + 1\n",
    "    new_node = Node(data)\n",
    "    if prev is not None:\n",
    "        prev.next = new_node\n",
    "    else:\n",
    "        head = new_node\n",
    "    \n",
    "    new_node.next = curr\n",
    "    \n",
    "    return head"
   ]
  },
  {
   "cell_type": "markdown",
   "metadata": {},
   "source": [
    "##### DELETE NODE FROM THE LINKED LIST"
   ]
  },
  {
   "cell_type": "code",
   "execution_count": 4,
   "metadata": {},
   "outputs": [],
   "source": [
    "def length(head):\n",
    "    count = 0\n",
    "    while head is not None:\n",
    "        count += 1\n",
    "        head = head.next\n",
    "    return count\n",
    "        \n",
    "    \n",
    "def deleteNode(head, pos) :\n",
    "    \n",
    "    if pos<0 or pos>=length(head):\n",
    "        return head\n",
    "    \n",
    "    currentNode = head\n",
    "    \n",
    "    if pos==0: \n",
    "        head = currentNode.next\n",
    "    else:\n",
    "        for i in range(pos-1):\n",
    "            currentNode = currentNode.next\n",
    "        currentNode.next = currentNode.next.next\n",
    "\n",
    "    del currentNode\n",
    "\n",
    "    return head"
   ]
  },
  {
   "cell_type": "markdown",
   "metadata": {},
   "source": [
    "##### RECURSIVELY FIND THE LENGTH OF THE LINKED LIST"
   ]
  },
  {
   "cell_type": "code",
   "execution_count": 5,
   "metadata": {},
   "outputs": [],
   "source": [
    "def lengthRecursive(head):\n",
    "    if head is None:\n",
    "        return 0\n",
    "    return 1 + lengthRecursive(head.next)"
   ]
  },
  {
   "cell_type": "markdown",
   "metadata": {},
   "source": [
    "##### RECURSIVELY INSERT AT iTH Position"
   ]
  },
  {
   "cell_type": "code",
   "execution_count": 6,
   "metadata": {},
   "outputs": [],
   "source": [
    "def insertAtIR(head,i,data):\n",
    "    \n",
    "    if i<0:\n",
    "        return head\n",
    "    \n",
    "    if i ==0:\n",
    "        newNode = Node(data)\n",
    "        newNode.next = head\n",
    "        return newNode\n",
    "    \n",
    "    if head is None:\n",
    "        return None\n",
    "    \n",
    "    smallHead = insertAtIR(head.next,i-1,data)\n",
    "    head.next = smallHead\n",
    "    return head"
   ]
  },
  {
   "cell_type": "markdown",
   "metadata": {},
   "source": [
    "##### DELETE A NODE FROM THE LINKED LIST"
   ]
  },
  {
   "cell_type": "code",
   "execution_count": null,
   "metadata": {},
   "outputs": [],
   "source": []
  }
 ],
 "metadata": {
  "kernelspec": {
   "display_name": "Python 3",
   "language": "python",
   "name": "python3"
  },
  "language_info": {
   "codemirror_mode": {
    "name": "ipython",
    "version": 3
   },
   "file_extension": ".py",
   "mimetype": "text/x-python",
   "name": "python",
   "nbconvert_exporter": "python",
   "pygments_lexer": "ipython3",
   "version": "3.10.11"
  }
 },
 "nbformat": 4,
 "nbformat_minor": 2
}
